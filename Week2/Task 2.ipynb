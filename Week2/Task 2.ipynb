{
 "cells": [
  {
   "cell_type": "markdown",
   "metadata": {},
   "source": [
    "### Import necessary libraries"
   ]
  },
  {
   "cell_type": "code",
   "execution_count": 146,
   "metadata": {
    "collapsed": true
   },
   "outputs": [],
   "source": [
    "import networkx as nx"
   ]
  },
  {
   "cell_type": "markdown",
   "metadata": {},
   "source": [
    "### Load edges from file"
   ]
  },
  {
   "cell_type": "code",
   "execution_count": 147,
   "metadata": {},
   "outputs": [],
   "source": [
    "G = nx.read_edgelist('2.graph.txt', delimiter='\\t', create_using=nx.Graph())"
   ]
  },
  {
   "cell_type": "markdown",
   "metadata": {},
   "source": [
    "### Source code"
   ]
  },
  {
   "cell_type": "code",
   "execution_count": 148,
   "metadata": {},
   "outputs": [],
   "source": [
    "def find_second_degree_of_node(graph, node):\n",
    "    num_edges = 0\n",
    "    neighbors_edges = set()\n",
    "    neighbors = nx.all_neighbors(graph, node)\n",
    "    \n",
    "    def edge_key(edge):\n",
    "        (x, y) = edge\n",
    "        return (x, y) if x <= y else (y, x)\n",
    "        \n",
    "    for neighbor in neighbors:\n",
    "        for edge in sorted(nx.edges(graph, neighbor), key=edge_key):\n",
    "            neighbors_edges.add(edge)\n",
    "        \n",
    "    for x, y in neighbors_edges:\n",
    "        if (x != node) and (y != node):\n",
    "            if x == y:\n",
    "                num_edges += 2\n",
    "            else:\n",
    "                num_edges += 1\n",
    "    return num_edges"
   ]
  },
  {
   "cell_type": "code",
   "execution_count": 149,
   "metadata": {
    "collapsed": true
   },
   "outputs": [],
   "source": [
    "def get_num_nodes_of_second_degree(graph, second_degree=3):\n",
    "    num_nodes = 0\n",
    "    \n",
    "    for node in graph.nodes():\n",
    "        sec_deg = find_second_degree_of_node(graph, node)\n",
    "        if sec_deg == second_degree:\n",
    "            num_nodes += 1\n",
    "    return num_nodes"
   ]
  },
  {
   "cell_type": "code",
   "execution_count": 150,
   "metadata": {},
   "outputs": [
    {
     "name": "stdout",
     "output_type": "stream",
     "text": [
      "Number of nodes of second degree equal to 3 are 1030\n"
     ]
    }
   ],
   "source": [
    "second_degree = 3\n",
    "print('Number of nodes of second degree equal to {0} are {1}'.format(\n",
    "    second_degree,\n",
    "    get_num_nodes_of_second_degree(G, second_degree)\n",
    "))"
   ]
  },
  {
   "cell_type": "code",
   "execution_count": null,
   "metadata": {
    "collapsed": true
   },
   "outputs": [],
   "source": []
  }
 ],
 "metadata": {
  "kernelspec": {
   "display_name": "Python 3",
   "language": "python",
   "name": "python3"
  },
  "language_info": {
   "codemirror_mode": {
    "name": "ipython",
    "version": 3
   },
   "file_extension": ".py",
   "mimetype": "text/x-python",
   "name": "python",
   "nbconvert_exporter": "python",
   "pygments_lexer": "ipython3",
   "version": "3.5.3"
  }
 },
 "nbformat": 4,
 "nbformat_minor": 2
}
