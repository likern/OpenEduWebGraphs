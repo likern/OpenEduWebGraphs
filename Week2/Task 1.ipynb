{
 "cells": [
  {
   "cell_type": "markdown",
   "metadata": {},
   "source": [
    "### Import necessary libraries"
   ]
  },
  {
   "cell_type": "code",
   "execution_count": 133,
   "metadata": {},
   "outputs": [],
   "source": [
    "import networkx as nx\n",
    "import matplotlib\n",
    "import matplotlib.pyplot as plt\n",
    "import pylab\n",
    "import random\n",
    "from collections import Counter"
   ]
  },
  {
   "cell_type": "markdown",
   "metadata": {},
   "source": [
    "### Configure matplotlib"
   ]
  },
  {
   "cell_type": "code",
   "execution_count": 134,
   "metadata": {
    "collapsed": true
   },
   "outputs": [],
   "source": [
    "%matplotlib inline"
   ]
  },
  {
   "cell_type": "markdown",
   "metadata": {},
   "source": [
    "### Source code"
   ]
  },
  {
   "cell_type": "code",
   "execution_count": 135,
   "metadata": {
    "collapsed": true
   },
   "outputs": [],
   "source": [
    "def generate_graph(t):\n",
    "    assert t >= 0\n",
    "    \n",
    "    G = nx.MultiGraph()\n",
    "    G.add_edge(0, 1)\n",
    "\n",
    "    edges_list = [(0, 1)]\n",
    "\n",
    "    for i in range(1, t + 1):\n",
    "        new_node = i + 1\n",
    "        G.add_node(new_node)\n",
    "        edge = random.choice(edges_list)\n",
    "        G.add_edge(new_node, edge[0])\n",
    "        G.add_edge(new_node, edge[1])\n",
    "        edges_list.append((new_node, edge[0]))\n",
    "        edges_list.append((new_node, edge[1]))\n",
    "    return G"
   ]
  },
  {
   "cell_type": "code",
   "execution_count": 136,
   "metadata": {},
   "outputs": [],
   "source": [
    "def proportion_of_nodes_with_degree(graph, degree):\n",
    "    nodes = graph.number_of_nodes()\n",
    "    counter = Counter()\n",
    "    for node in graph.nodes():\n",
    "        if nx.degree(graph, node) == degree:\n",
    "            counter[degree] += 1\n",
    "    return float(counter[degree]) / nodes"
   ]
  },
  {
   "cell_type": "markdown",
   "metadata": {},
   "source": [
    "### Draw graphic for different values of t parameter"
   ]
  },
  {
   "cell_type": "code",
   "execution_count": 143,
   "metadata": {},
   "outputs": [],
   "source": [
    "t = 3000\n",
    "parameter_values = []\n",
    "nodes_proportion = []\n",
    "\n",
    "for i in range(0, t + 100, 100):\n",
    "    parameter_values.append(i)\n",
    "    \n",
    "    graph = generate_graph(i)\n",
    "    proportion = proportion_of_nodes_with_degree(graph, 2)\n",
    "    nodes_proportion.append(proportion)"
   ]
  },
  {
   "cell_type": "code",
   "execution_count": 144,
   "metadata": {},
   "outputs": [
    {
     "name": "stdout",
     "output_type": "stream",
     "text": [
      "Proportion of nodes with degree 2 is 0.5, when all nodes are 3000\n"
     ]
    }
   ],
   "source": [
    "print('Proportion of nodes with degree 2 is {0}, when all nodes are {1}'.format(\n",
    "    nodes_proportion[-1], parameter_values[-1])\n",
    ")"
   ]
  },
  {
   "cell_type": "markdown",
   "metadata": {},
   "source": [
    "### Draw graphic"
   ]
  },
  {
   "cell_type": "code",
   "execution_count": 145,
   "metadata": {},
   "outputs": [
    {
     "data": {
      "image/png": "[encoded data removed]",
      "text/plain": [
       "<matplotlib.figure.Figure at 0x7f707d70a518>"
      ]
     },
     "metadata": {},
     "output_type": "display_data"
    }
   ],
   "source": [
    "pylab.rcParams['figure.figsize'] = 8, 8\n",
    "plt.plot(parameter_values, nodes_proportion)\n",
    "plt.title('Number of nodes with degree 2')\n",
    "plt.xlabel('t parameter', fontsize=20)\n",
    "plt.ylabel('Proportion of nodes with degree equal to 2', fontsize=20)\n",
    "plt.show()"
   ]
  }
 ],
 "metadata": {
  "kernelspec": {
   "display_name": "Python 3",
   "language": "python",
   "name": "python3"
  },
  "language_info": {
   "codemirror_mode": {
    "name": "ipython",
    "version": 3
   },
   "file_extension": ".py",
   "mimetype": "text/x-python",
   "name": "python",
   "nbconvert_exporter": "python",
   "pygments_lexer": "ipython3",
   "version": "3.5.3"
  }
 },
 "nbformat": 4,
 "nbformat_minor": 2
}
